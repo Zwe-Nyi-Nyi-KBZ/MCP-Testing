{
 "cells": [
  {
   "cell_type": "markdown",
   "id": "fa5d0c73",
   "metadata": {},
   "source": [
    "# Calculator Project Management\n",
    "\n",
    "This notebook helps you manage the calculator project, including folder creation, description, and a database to track issues and version history. Follow the steps below to set up and use the system with your team."
   ]
  },
  {
   "cell_type": "code",
   "execution_count": null,
   "id": "70ebe748",
   "metadata": {},
   "outputs": [],
   "source": [
    "import os\n",
    "from pathlib import Path\n",
    "\n",
    "project_folder = Path('Calculator_Project')\n",
    "project_folder.mkdir(exist_ok=True)\n",
    "print(f\"Project folder created at: {project_folder.resolve()}\")"
   ]
  },
  {
   "cell_type": "code",
   "execution_count": null,
   "id": "1b7321fa",
   "metadata": {},
   "outputs": [],
   "source": [
    "description_path = project_folder / 'Description.txt'\n",
    "description_content = '''Calculator Project\\n\\nA simple calculator web app for basic arithmetic operations.\\nFeatures: Addition, subtraction, multiplication, division, clear, delete, decimal support.\\nTeam: Zwe-Nyi-Nyi-KBZ and contributors.\\nGoals: Track issues and version history, collaborate for improvements.\\n'''\n",
    "with open(description_path, 'w') as f:\n",
    "    f.write(description_content)\n",
    "print(f\"Description page created at: {description_path.resolve()}\")"
   ]
  },
  {
   "cell_type": "code",
   "execution_count": null,
   "id": "ed928c16",
   "metadata": {},
   "outputs": [],
   "source": [
    "import sqlite3\n",
    "\n",
    "db_path = project_folder / 'issues_version.db'\n",
    "conn = sqlite3.connect(db_path)\n",
    "cursor = conn.cursor()\n",
    "\n",
    "cursor.execute('''\n",
    "CREATE TABLE IF NOT EXISTS issues_version (\n",
    "    id INTEGER PRIMARY KEY AUTOINCREMENT,\n",
    "    version TEXT,\n",
    "    date TEXT,\n",
    "    issue_bug TEXT,\n",
    "    status TEXT,\n",
    "    github_commit_link TEXT,\n",
    "    notes TEXT,\n",
    "    assignee TEXT,\n",
    "    priority TEXT\n",
    ")\n",
    "''')\n",
    "conn.commit()\n",
    "print(f\"Database and table created at: {db_path.resolve()}\")"
   ]
  },
  {
   "cell_type": "code",
   "execution_count": null,
   "id": "7444caf6",
   "metadata": {},
   "outputs": [],
   "source": [
    "import datetime\n",
    "\n",
    "def add_issue_version(version, issue_bug, status, github_commit_link, notes, assignee, priority):\n",
    "    date = datetime.datetime.now().strftime('%Y-%m-%d')\n",
    "    cursor.execute('''\n",
    "        INSERT INTO issues_version (version, date, issue_bug, status, github_commit_link, notes, assignee, priority)\n",
    "        VALUES (?, ?, ?, ?, ?, ?, ?, ?)\n",
    "    ''', (version, date, issue_bug, status, github_commit_link, notes, assignee, priority))\n",
    "    conn.commit()\n",
    "    print(f\"Added entry for version {version}\")\n",
    "\n",
    "# Simulate git push and update database\n",
    "add_issue_version(\n",
    "    version='1.0.2',\n",
    "    issue_bug='Prevent consecutive operators in calculator input',\n",
    "    status='Fixed',\n",
    "    github_commit_link='https://github.com/Zwe-Nyi-Nyi-KBZ/MCP-Testing/commit/cc51b52',\n",
    "    notes='Bug fixed and pushed to repo.',\n",
    "    assignee='Zwe-Nyi-Nyi-KBZ',\n",
    "    priority='High'\n",
    ")\n",
    "\n",
    "# Show all entries\n",
    "for row in cursor.execute('SELECT * FROM issues_version'):\n",
    "    print(row)"
   ]
  }
 ],
 "metadata": {
  "language_info": {
   "name": "python"
  }
 },
 "nbformat": 4,
 "nbformat_minor": 5
}
